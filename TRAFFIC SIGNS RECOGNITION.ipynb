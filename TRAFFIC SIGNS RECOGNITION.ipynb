{
 "cells": [
  {
   "cell_type": "markdown",
   "id": "5a471c19",
   "metadata": {},
   "source": [
    "## IMPORTING REQUIRED LIBRARIES"
   ]
  },
  {
   "cell_type": "code",
   "execution_count": 2,
   "id": "4cee043c",
   "metadata": {},
   "outputs": [
    {
     "ename": "ImportError",
     "evalue": "cannot import name 'gradient_descent_v2' from 'keras.optimizers' (c:\\Program Files\\Python39\\lib\\site-packages\\keras\\optimizers\\__init__.py)",
     "output_type": "error",
     "traceback": [
      "\u001b[1;31m---------------------------------------------------------------------------\u001b[0m",
      "\u001b[1;31mImportError\u001b[0m                               Traceback (most recent call last)",
      "\u001b[1;32mc:\\Users\\Vikas Singla\\Desktop\\ml project\\TRAFFIC SIGNS RECOGNITION.ipynb Cell 2\u001b[0m in \u001b[0;36m<module>\u001b[1;34m\u001b[0m\n\u001b[0;32m     <a href='vscode-notebook-cell:/c%3A/Users/Vikas%20Singla/Desktop/ml%20project/TRAFFIC%20SIGNS%20RECOGNITION.ipynb#W1sZmlsZQ%3D%3D?line=9'>10</a>\u001b[0m \u001b[39mfrom\u001b[39;00m \u001b[39mkeras\u001b[39;00m\u001b[39m.\u001b[39;00m\u001b[39mlayers\u001b[39;00m \u001b[39mimport\u001b[39;00m Dense, Dropout, Activation, Flatten\n\u001b[0;32m     <a href='vscode-notebook-cell:/c%3A/Users/Vikas%20Singla/Desktop/ml%20project/TRAFFIC%20SIGNS%20RECOGNITION.ipynb#W1sZmlsZQ%3D%3D?line=10'>11</a>\u001b[0m \u001b[39mfrom\u001b[39;00m \u001b[39mkeras\u001b[39;00m\u001b[39m.\u001b[39;00m\u001b[39mlayers\u001b[39;00m \u001b[39mimport\u001b[39;00m Conv2D, MaxPooling2D\n\u001b[1;32m---> <a href='vscode-notebook-cell:/c%3A/Users/Vikas%20Singla/Desktop/ml%20project/TRAFFIC%20SIGNS%20RECOGNITION.ipynb#W1sZmlsZQ%3D%3D?line=11'>12</a>\u001b[0m \u001b[39mfrom\u001b[39;00m \u001b[39mkeras\u001b[39;00m\u001b[39m.\u001b[39;00m\u001b[39moptimizers\u001b[39;00m \u001b[39mimport\u001b[39;00m gradient_descent_v2\n\u001b[0;32m     <a href='vscode-notebook-cell:/c%3A/Users/Vikas%20Singla/Desktop/ml%20project/TRAFFIC%20SIGNS%20RECOGNITION.ipynb#W1sZmlsZQ%3D%3D?line=12'>13</a>\u001b[0m \u001b[39mfrom\u001b[39;00m \u001b[39msklearn\u001b[39;00m\u001b[39m.\u001b[39;00m\u001b[39mmetrics\u001b[39;00m \u001b[39mimport\u001b[39;00m accuracy_score\n",
      "\u001b[1;31mImportError\u001b[0m: cannot import name 'gradient_descent_v2' from 'keras.optimizers' (c:\\Program Files\\Python39\\lib\\site-packages\\keras\\optimizers\\__init__.py)"
     ]
    }
   ],
   "source": [
    "import numpy as np\n",
    "import pandas as pd\n",
    "import tensorflow as tf\n",
    "from keras.utils import to_categorical ##to convert numerical variables to catagorical variables\n",
    "from PIL import Image ##Python Imaging Library\n",
    "import os\n",
    "from sklearn.model_selection import train_test_split\n",
    "import matplotlib.pylab as plt\n",
    "from keras.models import Sequential\n",
    "from keras.layers import Dense, Dropout, Activation, Flatten\n",
    "from keras.layers import Conv2D, MaxPooling2D\n",
    "from keras.optimizers import gradient_descent_v2\n",
    "from sklearn.metrics import accuracy_score"
   ]
  },
  {
   "cell_type": "markdown",
   "id": "61a2d2b1",
   "metadata": {},
   "source": [
    "## DATA PREPROCESSING"
   ]
  },
  {
   "cell_type": "code",
   "execution_count": 35,
   "id": "a8a8fcef",
   "metadata": {},
   "outputs": [
    {
     "name": "stdout",
     "output_type": "stream",
     "text": [
      "C:\\Users\\Vikas Singla\\Desktop\\ml project\n"
     ]
    }
   ],
   "source": [
    "data=[] #will contain all the images in the form of numpy array\n",
    "classes=[] #will contain corresponding labels\n",
    "number_classes=43\n",
    "curr_path=os.getcwd() ##cwd-> current working directory\n",
    "print(curr_path)"
   ]
  },
  {
   "cell_type": "code",
   "execution_count": 36,
   "id": "d17aba53",
   "metadata": {},
   "outputs": [],
   "source": [
    "for i in range(number_classes):\n",
    "    path=os.path.join(curr_path,'train',str(i)) \n",
    "    images=os.listdir(path) ##list of all the files in the directory at the given path\n",
    "    \n",
    "    for img in images:\n",
    "        try:\n",
    "            arr=Image.open(path+\"\\\\\"+img) ##Image.open is used to open an image, returns an image object\n",
    "            arr=arr.resize((30,30)) ##resizing required so that every image has same number of features\n",
    "            arr=np.array(arr) ## convert the image into a numpy array of size 30*30*3, height=30, width=30, 3 stands for RGB parts of image \n",
    "            data.append(arr)\n",
    "            classes.append(i)\n",
    "        except:\n",
    "            print(\"Error\")"
   ]
  },
  {
   "cell_type": "code",
   "execution_count": 37,
   "id": "436643f5",
   "metadata": {},
   "outputs": [],
   "source": [
    "data=np.array(data) ##final data\n",
    "classes=np.array(classes) ## corresponding labels"
   ]
  },
  {
   "cell_type": "code",
   "execution_count": 38,
   "id": "4825c3f1",
   "metadata": {},
   "outputs": [
    {
     "data": {
      "text/plain": [
       "(39209, 30, 30, 3)"
      ]
     },
     "execution_count": 38,
     "metadata": {},
     "output_type": "execute_result"
    }
   ],
   "source": [
    "data.shape\n",
    "## The shape of data is (39209, 30, 30, 3) which means that there are 39,209 images of size 30×30 pixels and the \n",
    "## last 3 means the data contains colored images (RGB value)."
   ]
  },
  {
   "cell_type": "code",
   "execution_count": 39,
   "id": "ea4f2812",
   "metadata": {},
   "outputs": [],
   "source": [
    "X_train,X_dev,y_train, y_dev=train_test_split(data,classes,test_size=0.2,random_state=20)\n",
    "## dev set size = 20% of whole data"
   ]
  },
  {
   "cell_type": "code",
   "execution_count": 40,
   "id": "f358afde",
   "metadata": {},
   "outputs": [
    {
     "name": "stdout",
     "output_type": "stream",
     "text": [
      "(31367, 30, 30, 3) (7842, 30, 30, 3) (31367,) (7842,)\n"
     ]
    }
   ],
   "source": [
    "print(X_train.shape,X_dev.shape,y_train.shape,y_dev.shape)"
   ]
  },
  {
   "cell_type": "code",
   "execution_count": 41,
   "id": "12c77ba5",
   "metadata": {},
   "outputs": [
    {
     "name": "stdout",
     "output_type": "stream",
     "text": [
      "(31367, 43)\n",
      "(7842, 43)\n",
      "[0. 0. 0. 0. 0. 0. 0. 0. 0. 0. 0. 0. 0. 0. 0. 0. 0. 1. 0. 0. 0. 0. 0. 0.\n",
      " 0. 0. 0. 0. 0. 0. 0. 0. 0. 0. 0. 0. 0. 0. 0. 0. 0. 0. 0.]\n"
     ]
    }
   ],
   "source": [
    "y_train=to_categorical(y_train, 43)\n",
    "y_dev=to_categorical(y_dev, 43)\n",
    "print(y_train.shape)\n",
    "print(y_dev.shape)\n",
    "print(y_train[0])"
   ]
  },
  {
   "cell_type": "markdown",
   "id": "ae461b41",
   "metadata": {},
   "source": [
    "## CNN MODEL"
   ]
  },
  {
   "cell_type": "code",
   "execution_count": 42,
   "id": "970cd031",
   "metadata": {},
   "outputs": [],
   "source": [
    "model = Sequential()\n",
    "model.add(Conv2D(filters=32, kernel_size=(5,5), activation='relu', input_shape=X_train.shape[1:]))\n",
    "model.add(Conv2D(filters=32, kernel_size=(5,5), activation='relu'))\n",
    "model.add(MaxPooling2D(pool_size=(2, 2)))\n",
    "model.add(Dropout(rate=0.25))\n",
    "model.add(Conv2D(filters=64, kernel_size=(3, 3), activation='relu'))\n",
    "model.add(Conv2D(filters=64, kernel_size=(3, 3), activation='relu'))\n",
    "model.add(MaxPooling2D(pool_size=(2, 2)))\n",
    "model.add(Dropout(rate=0.25))\n",
    "model.add(Flatten())\n",
    "model.add(Dense(256, activation='relu'))\n",
    "model.add(Dropout(rate=0.5))\n",
    "model.add(Dense(43, activation='softmax'))"
   ]
  },
  {
   "cell_type": "code",
   "execution_count": 43,
   "id": "5eec7ef2",
   "metadata": {},
   "outputs": [],
   "source": [
    "model.compile(loss='categorical_crossentropy', optimizer='adam', metrics=['accuracy'])"
   ]
  },
  {
   "cell_type": "code",
   "execution_count": 44,
   "id": "1cc16e67",
   "metadata": {},
   "outputs": [
    {
     "name": "stdout",
     "output_type": "stream",
     "text": [
      "Epoch 1/15\n",
      "981/981 [==============================] - 84s 84ms/step - loss: 1.5798 - accuracy: 0.6069 - val_loss: 0.2523 - val_accuracy: 0.9399\n",
      "Epoch 2/15\n",
      "981/981 [==============================] - 75s 76ms/step - loss: 0.4267 - accuracy: 0.8825 - val_loss: 0.1053 - val_accuracy: 0.9726\n",
      "Epoch 3/15\n",
      "981/981 [==============================] - 77s 78ms/step - loss: 0.2811 - accuracy: 0.9214 - val_loss: 0.1595 - val_accuracy: 0.9537\n",
      "Epoch 4/15\n",
      "981/981 [==============================] - 75s 76ms/step - loss: 0.2532 - accuracy: 0.9328 - val_loss: 0.0985 - val_accuracy: 0.9740\n",
      "Epoch 5/15\n",
      "981/981 [==============================] - 70s 72ms/step - loss: 0.2495 - accuracy: 0.9349 - val_loss: 0.0664 - val_accuracy: 0.9833\n",
      "Epoch 6/15\n",
      "981/981 [==============================] - 73s 74ms/step - loss: 0.2215 - accuracy: 0.9436 - val_loss: 0.0643 - val_accuracy: 0.9804\n",
      "Epoch 7/15\n",
      "981/981 [==============================] - 78s 80ms/step - loss: 0.2258 - accuracy: 0.9418 - val_loss: 0.0460 - val_accuracy: 0.9862\n",
      "Epoch 8/15\n",
      "981/981 [==============================] - 72s 73ms/step - loss: 0.2097 - accuracy: 0.9451 - val_loss: 0.0673 - val_accuracy: 0.9807\n",
      "Epoch 9/15\n",
      "981/981 [==============================] - 73s 75ms/step - loss: 0.2274 - accuracy: 0.9434 - val_loss: 0.0457 - val_accuracy: 0.9879\n",
      "Epoch 10/15\n",
      "981/981 [==============================] - 77s 78ms/step - loss: 0.1918 - accuracy: 0.9525 - val_loss: 0.0483 - val_accuracy: 0.9876\n",
      "Epoch 11/15\n",
      "981/981 [==============================] - 71s 73ms/step - loss: 0.1836 - accuracy: 0.9547 - val_loss: 0.1042 - val_accuracy: 0.9707\n",
      "Epoch 12/15\n",
      "981/981 [==============================] - 77s 79ms/step - loss: 0.2182 - accuracy: 0.9481 - val_loss: 0.0725 - val_accuracy: 0.9801\n",
      "Epoch 13/15\n",
      "981/981 [==============================] - 71s 72ms/step - loss: 0.1927 - accuracy: 0.9537 - val_loss: 0.0308 - val_accuracy: 0.9908\n",
      "Epoch 14/15\n",
      "981/981 [==============================] - 73s 75ms/step - loss: 0.2287 - accuracy: 0.9480 - val_loss: 0.0444 - val_accuracy: 0.9881\n",
      "Epoch 15/15\n",
      "981/981 [==============================] - 75s 77ms/step - loss: 0.2131 - accuracy: 0.9528 - val_loss: 0.0345 - val_accuracy: 0.9913\n"
     ]
    }
   ],
   "source": [
    "epochs = 15\n",
    "history = model.fit(X_train, y_train, batch_size=32, epochs=epochs, validation_data=(X_dev, y_dev))"
   ]
  },
  {
   "cell_type": "code",
   "execution_count": 45,
   "id": "82dbba81",
   "metadata": {},
   "outputs": [
    {
     "data": {
      "image/png": "[encoded data removed]",
      "text/plain": [
       "<Figure size 432x288 with 1 Axes>"
      ]
     },
     "metadata": {
      "needs_background": "light"
     },
     "output_type": "display_data"
    },
    {
     "data": {
      "image/png": "[encoded data removed]",
      "text/plain": [
       "<Figure size 432x288 with 1 Axes>"
      ]
     },
     "metadata": {
      "needs_background": "light"
     },
     "output_type": "display_data"
    }
   ],
   "source": [
    "plt.figure(0)\n",
    "plt.plot(history.history['accuracy'], label='training accuracy')\n",
    "plt.plot(history.history['val_accuracy'], label='val accuracy')\n",
    "plt.title('Accuracy')\n",
    "plt.xlabel('epochs')\n",
    "plt.ylabel('accuracy')\n",
    "plt.legend()\n",
    "plt.show()\n",
    "\n",
    "plt.figure(1)\n",
    "plt.plot(history.history['loss'], label='training loss')\n",
    "plt.plot(history.history['val_loss'], label='val loss')\n",
    "plt.title('Loss')\n",
    "plt.xlabel('epochs')\n",
    "plt.ylabel('loss')\n",
    "plt.legend()\n",
    "plt.show()"
   ]
  },
  {
   "cell_type": "markdown",
   "id": "db23ede7",
   "metadata": {},
   "source": [
    "## DATA PREPROCESSING FOR 2 LAYER NN"
   ]
  },
  {
   "cell_type": "code",
   "execution_count": 46,
   "id": "5def066a",
   "metadata": {},
   "outputs": [],
   "source": [
    "X_train=X_train.reshape(X_train.shape[0],-1)\n",
    "X_dev=X_dev.reshape(X_dev.shape[0],-1)"
   ]
  },
  {
   "cell_type": "code",
   "execution_count": 47,
   "id": "680e74c2",
   "metadata": {},
   "outputs": [
    {
     "name": "stdout",
     "output_type": "stream",
     "text": [
      "X_train's shape: (31367, 2700)\n",
      "X_dev's shape: (7842, 2700)\n"
     ]
    }
   ],
   "source": [
    "print(\"X_train's shape: \" + str(X_train.shape))\n",
    "print(\"X_dev's shape: \" + str(X_dev.shape))"
   ]
  },
  {
   "cell_type": "code",
   "execution_count": 48,
   "id": "38d5f7bd",
   "metadata": {},
   "outputs": [],
   "source": [
    "def pre_process_data(x_train, x_dev):\n",
    "   \n",
    "    x_train = x_train / 255.\n",
    "    x_dev = x_dev / 255.\n",
    "\n",
    "    return x_train, x_dev"
   ]
  },
  {
   "cell_type": "code",
   "execution_count": 49,
   "id": "8a08b417",
   "metadata": {},
   "outputs": [],
   "source": [
    "X_train, X_dev = pre_process_data(X_train, X_dev)"
   ]
  },
  {
   "cell_type": "markdown",
   "id": "5bf46d3d",
   "metadata": {},
   "source": [
    "## 2 LAYER NN MODEL BUILDING"
   ]
  },
  {
   "cell_type": "code",
   "execution_count": 71,
   "id": "a0204305",
   "metadata": {},
   "outputs": [],
   "source": [
    "class ANN:\n",
    "    def __init__(self, layers_size):\n",
    "        self.layers_size = layers_size\n",
    "        self.parameters = {}\n",
    "        self.L = len(self.layers_size)\n",
    "        self.n = 0\n",
    "        self.costs = []\n",
    "\n",
    "    def sigmoid(self, Z):\n",
    "        return 1 / (1 + np.exp(-Z))\n",
    "\n",
    "    def softmax(self, Z):\n",
    "        expZ = np.exp(Z - np.max(Z))\n",
    "        return expZ / expZ.sum(axis=0, keepdims=True)\n",
    "\n",
    "    def initialize_parameters(self):\n",
    "        np.random.seed(1)\n",
    "\n",
    "        for l in range(1, len(self.layers_size)):\n",
    "            self.parameters[\"W\" + str(l)] = np.random.randn(self.layers_size[l], self.layers_size[l - 1]) / np.sqrt(\n",
    "                self.layers_size[l - 1])\n",
    "            self.parameters[\"b\" + str(l)] = np.zeros((self.layers_size[l], 1))\n",
    "\n",
    "    def forward(self, X):\n",
    "        store = {}\n",
    "\n",
    "        A = X.T\n",
    "        for l in range(self.L - 1):\n",
    "            Z = self.parameters[\"W\" + str(l + 1)].dot(A) + self.parameters[\"b\" + str(l + 1)]\n",
    "            A = self.sigmoid(Z)\n",
    "            store[\"A\" + str(l + 1)] = A\n",
    "            store[\"W\" + str(l + 1)] = self.parameters[\"W\" + str(l + 1)]\n",
    "            store[\"Z\" + str(l + 1)] = Z\n",
    "\n",
    "        Z = self.parameters[\"W\" + str(self.L)].dot(A) + self.parameters[\"b\" + str(self.L)]\n",
    "        A = self.softmax(Z)\n",
    "        store[\"A\" + str(self.L)] = A\n",
    "        store[\"W\" + str(self.L)] = self.parameters[\"W\" + str(self.L)]\n",
    "        store[\"Z\" + str(self.L)] = Z\n",
    "\n",
    "        return A, store\n",
    "\n",
    "    def sigmoid_derivative(self, Z):\n",
    "        s = 1 / (1 + np.exp(-Z))\n",
    "        return s * (1 - s)\n",
    "\n",
    "    def backward(self, X, Y, store):\n",
    "\n",
    "        derivatives = {}\n",
    "\n",
    "        store[\"A0\"] = X.T\n",
    "\n",
    "        A = store[\"A\" + str(self.L)]\n",
    "        dZ = A - Y.T\n",
    "\n",
    "        dW = dZ.dot(store[\"A\" + str(self.L - 1)].T) / self.n\n",
    "        db = np.sum(dZ, axis=1, keepdims=True) / self.n\n",
    "        dAPrev = store[\"W\" + str(self.L)].T.dot(dZ)\n",
    "\n",
    "        derivatives[\"dW\" + str(self.L)] = dW\n",
    "        derivatives[\"db\" + str(self.L)] = db\n",
    "\n",
    "        for l in range(self.L - 1, 0, -1):\n",
    "            dZ = dAPrev * self.sigmoid_derivative(store[\"Z\" + str(l)])\n",
    "            dW = 1. / self.n * dZ.dot(store[\"A\" + str(l - 1)].T)\n",
    "            db = 1. / self.n * np.sum(dZ, axis=1, keepdims=True)\n",
    "            if l > 1:\n",
    "                dAPrev = store[\"W\" + str(l)].T.dot(dZ)\n",
    "\n",
    "            derivatives[\"dW\" + str(l)] = dW\n",
    "            derivatives[\"db\" + str(l)] = db\n",
    "\n",
    "        return derivatives\n",
    "\n",
    "    def fit(self, X, Y, learning_rate=0.01, n_iterations=2500):\n",
    "        np.random.seed(1)\n",
    "\n",
    "        self.n = X.shape[0]\n",
    "\n",
    "        self.layers_size.insert(0, X.shape[1])\n",
    "\n",
    "        self.initialize_parameters()\n",
    "        for loop in range(n_iterations):\n",
    "            A, store = self.forward(X)\n",
    "            cost = -np.mean(Y * np.log(A.T))\n",
    "            derivatives = self.backward(X, Y, store)\n",
    "\n",
    "            for l in range(1, self.L + 1):\n",
    "                self.parameters[\"W\" + str(l)] = self.parameters[\"W\" + str(l)] - learning_rate * derivatives[\n",
    "                    \"dW\" + str(l)]\n",
    "                self.parameters[\"b\" + str(l)] = self.parameters[\"b\" + str(l)] - learning_rate * derivatives[\n",
    "                    \"db\" + str(l)]\n",
    "\n",
    "            if loop % 100 == 0:\n",
    "                print(\"Cost: \", cost)\n",
    "\n",
    "            if loop % 10 == 0:\n",
    "                self.costs.append(cost)\n",
    "\n",
    "    def predict(self, X, Y):\n",
    "        A, cache = self.forward(X)\n",
    "        y_hat = np.argmax(A, axis=0)\n",
    "        Y = np.argmax(Y, axis=1)\n",
    "        accuracy = accuracy_score(Y, y_hat)\n",
    "        return accuracy * 100\n",
    "    \n",
    "    def predict1(self, X):\n",
    "        A, cache = self.forward(X)\n",
    "        return A\n",
    "\n",
    "    def plot_cost(self):\n",
    "        plt.figure()\n",
    "        plt.plot(np.arange(len(self.costs)), self.costs)\n",
    "        plt.xlabel(\"epochs\")\n",
    "        plt.ylabel(\"cost\")\n",
    "        plt.show()"
   ]
  },
  {
   "cell_type": "code",
   "execution_count": 51,
   "id": "f2d10c66",
   "metadata": {},
   "outputs": [],
   "source": [
    "layers_dims = [60, 43]"
   ]
  },
  {
   "cell_type": "code",
   "execution_count": 52,
   "id": "11401047",
   "metadata": {},
   "outputs": [
    {
     "name": "stdout",
     "output_type": "stream",
     "text": [
      "Cost:  0.08949308221083314\n",
      "Cost:  0.07745642813937008\n",
      "Cost:  0.0735985364078795\n",
      "Cost:  0.06933341633613438\n",
      "Cost:  0.06498915872258168\n",
      "Cost:  0.060932064379474564\n",
      "Cost:  0.05733457205310407\n",
      "Cost:  0.0541780821942526\n",
      "Cost:  0.05138242284996315\n",
      "Cost:  0.04887498644307349\n",
      "Train Accuracy: 50.15143303471802\n",
      "Test Accuracy: 48.55904106095384\n"
     ]
    },
    {
     "data": {
      "image/png": "[encoded data removed]",
      "text/plain": [
       "<Figure size 432x288 with 1 Axes>"
      ]
     },
     "metadata": {
      "needs_background": "light"
     },
     "output_type": "display_data"
    }
   ],
   "source": [
    "ann = ANN(layers_dims)\n",
    "ann.fit(X_train, y_train, learning_rate=0.1, n_iterations=1000)\n",
    "print(\"Train Accuracy:\", ann.predict(X_train, y_train))\n",
    "print(\"Test Accuracy:\", ann.predict(X_dev, y_dev))\n",
    "ann.plot_cost()"
   ]
  },
  {
   "cell_type": "code",
   "execution_count": 53,
   "id": "0e9fb9a9",
   "metadata": {},
   "outputs": [],
   "source": [
    "layers_dims = [70, 43]"
   ]
  },
  {
   "cell_type": "code",
   "execution_count": 54,
   "id": "a22b48e0",
   "metadata": {},
   "outputs": [
    {
     "name": "stdout",
     "output_type": "stream",
     "text": [
      "Cost:  0.08741198402180383\n",
      "Cost:  0.07298172744347783\n",
      "Cost:  0.06404194205575822\n",
      "Cost:  0.05629114814185578\n",
      "Cost:  0.05034279016848007\n",
      "Cost:  0.045610551476141126\n",
      "Cost:  0.04166613678541638\n",
      "Cost:  0.038278085248349934\n",
      "Cost:  0.0353196734368171\n",
      "Cost:  0.032716342028282754\n",
      "Cost:  0.030419118065640207\n",
      "Cost:  0.02838998925406257\n",
      "Cost:  0.02659527936926383\n",
      "Cost:  0.025003939852380325\n",
      "Cost:  0.023587741755110594\n",
      "Train Accuracy: 79.7557943061179\n",
      "Test Accuracy: 78.79367508288702\n"
     ]
    },
    {
     "data": {
      "image/png": "[encoded data removed]",
      "text/plain": [
       "<Figure size 432x288 with 1 Axes>"
      ]
     },
     "metadata": {
      "needs_background": "light"
     },
     "output_type": "display_data"
    }
   ],
   "source": [
    "ann = ANN(layers_dims)\n",
    "ann.fit(X_train, y_train, learning_rate=0.2, n_iterations=1500)\n",
    "print(\"Train Accuracy:\", ann.predict(X_train, y_train))\n",
    "print(\"Test Accuracy:\", ann.predict(X_dev, y_dev))\n",
    "ann.plot_cost()"
   ]
  },
  {
   "cell_type": "code",
   "execution_count": 72,
   "id": "e1740c2b",
   "metadata": {},
   "outputs": [],
   "source": [
    "layers_dims = [70, 43]"
   ]
  },
  {
   "cell_type": "code",
   "execution_count": 73,
   "id": "73af2940",
   "metadata": {},
   "outputs": [
    {
     "name": "stdout",
     "output_type": "stream",
     "text": [
      "Cost:  0.08741198402180383\n",
      "Cost:  0.06854270348153786\n",
      "Cost:  0.056319633685875226\n",
      "Cost:  0.04787832799915461\n",
      "Cost:  0.041683436988265835\n",
      "Cost:  0.03804509485298783\n",
      "Cost:  0.033071482078617064\n",
      "Cost:  0.029826315976207458\n",
      "Cost:  0.02710366400869446\n",
      "Cost:  0.024819650829490187\n",
      "Cost:  0.022869363352230918\n",
      "Cost:  0.02118787543235034\n",
      "Cost:  0.019714737655616113\n",
      "Cost:  0.01857583547243129\n",
      "Cost:  0.01771070725551645\n",
      "Cost:  0.01628826232824275\n",
      "Cost:  0.01534880529203678\n",
      "Cost:  0.014765543642025333\n",
      "Cost:  0.013757360716312917\n",
      "Cost:  0.013054430499966244\n",
      "Train Accuracy: 89.39012337807249\n",
      "Test Accuracy: 88.37031369548585\n"
     ]
    },
    {
     "data": {
      "image/png": "[encoded data removed]",
      "text/plain": [
       "<Figure size 432x288 with 1 Axes>"
      ]
     },
     "metadata": {
      "needs_background": "light"
     },
     "output_type": "display_data"
    }
   ],
   "source": [
    "ann = ANN(layers_dims)\n",
    "ann.fit(X_train, y_train, learning_rate=0.3, n_iterations=2000)\n",
    "print(\"Train Accuracy:\", ann.predict(X_train, y_train))\n",
    "print(\"Test Accuracy:\", ann.predict(X_dev, y_dev))\n",
    "ann.plot_cost()"
   ]
  },
  {
   "cell_type": "markdown",
   "id": "f67dcc9c",
   "metadata": {},
   "source": [
    "## TESTING OUR MODEL"
   ]
  },
  {
   "cell_type": "code",
   "execution_count": 57,
   "id": "12485239",
   "metadata": {},
   "outputs": [],
   "source": [
    "df = pd.read_csv(\"Test.csv\")\n",
    "y_test = df['ClassId'].values\n",
    "paths = df['Path'].values"
   ]
  },
  {
   "cell_type": "code",
   "execution_count": 58,
   "id": "eed07163",
   "metadata": {},
   "outputs": [
    {
     "name": "stdout",
     "output_type": "stream",
     "text": [
      "(12630, 30, 30, 3)\n"
     ]
    }
   ],
   "source": [
    "data=[]\n",
    "for path in paths:\n",
    "    image = Image.open(path)\n",
    "    image = image.resize((30,30))\n",
    "    data.append(np.array(image))\n",
    "\n",
    "x_test = np.array(data)\n",
    "print(x_test.shape)"
   ]
  },
  {
   "cell_type": "code",
   "execution_count": 59,
   "id": "d87f953b",
   "metadata": {},
   "outputs": [
    {
     "name": "stdout",
     "output_type": "stream",
     "text": [
      "395/395 [==============================] - 5s 11ms/step\n"
     ]
    }
   ],
   "source": [
    "pred = model.predict(x_test)\n",
    "classes = np.argmax(pred,axis=1)"
   ]
  },
  {
   "cell_type": "code",
   "execution_count": 60,
   "id": "04ef6007",
   "metadata": {},
   "outputs": [
    {
     "name": "stdout",
     "output_type": "stream",
     "text": [
      "0.9653998416468725\n"
     ]
    }
   ],
   "source": [
    "print(accuracy_score(y_test, classes))"
   ]
  },
  {
   "cell_type": "markdown",
   "id": "2fda17db",
   "metadata": {},
   "source": [
    "## TESTING 2 LAYER NN ON TEST SET"
   ]
  },
  {
   "cell_type": "code",
   "execution_count": 74,
   "id": "dd397a4b",
   "metadata": {},
   "outputs": [],
   "source": [
    "X_test = x_test.reshape(x_test.shape[0],-1)\n",
    "X_test = X_test/255\n",
    "Y_test = to_categorical(y_test, 43)"
   ]
  },
  {
   "cell_type": "code",
   "execution_count": 75,
   "id": "32509fb0",
   "metadata": {},
   "outputs": [
    {
     "name": "stdout",
     "output_type": "stream",
     "text": [
      "(12630, 2700)\n",
      "(12630, 43)\n"
     ]
    }
   ],
   "source": [
    "print(X_test.shape)\n",
    "print(Y_test.shape)"
   ]
  },
  {
   "cell_type": "code",
   "execution_count": 76,
   "id": "eb44ea5b",
   "metadata": {},
   "outputs": [
    {
     "data": {
      "text/plain": [
       "81.1243072050673"
      ]
     },
     "execution_count": 76,
     "metadata": {},
     "output_type": "execute_result"
    }
   ],
   "source": [
    "ann.predict(X_test, Y_test)"
   ]
  },
  {
   "cell_type": "markdown",
   "id": "8a0cb8d6",
   "metadata": {},
   "source": [
    "## SAVING OUR MODEL"
   ]
  },
  {
   "cell_type": "code",
   "execution_count": 64,
   "id": "a7de2812",
   "metadata": {},
   "outputs": [],
   "source": [
    "model.save('model.h5')"
   ]
  },
  {
   "cell_type": "markdown",
   "id": "9229b9fb",
   "metadata": {},
   "source": [
    "## GUI"
   ]
  },
  {
   "cell_type": "code",
   "execution_count": 1,
   "id": "a907c5a6",
   "metadata": {},
   "outputs": [
    {
     "name": "stdout",
     "output_type": "stream",
     "text": [
      "1/1 [==============================] - 0s 415ms/step\n"
     ]
    },
    {
     "name": "stderr",
     "output_type": "stream",
     "text": [
      "Exception in Tkinter callback\n",
      "Traceback (most recent call last):\n",
      "  File \"c:\\Program Files\\Python39\\lib\\tkinter\\__init__.py\", line 1885, in __call__\n",
      "    return self.func(*args)\n",
      "  File \"C:\\Users\\Vikas Singla\\AppData\\Local\\Temp\\ipykernel_9860\\29865458.py\", line 72, in <lambda>\n",
      "    classify_b=Button(top,text=\"Classify Image\",command=lambda: classify(file_path),padx=10,pady=5)\n",
      "  File \"C:\\Users\\Vikas Singla\\AppData\\Local\\Temp\\ipykernel_9860\\29865458.py\", line 67, in classify\n",
      "    c = np.argmax(pred, axis=1)\n",
      "NameError: name 'np' is not defined\n"
     ]
    },
    {
     "name": "stdout",
     "output_type": "stream",
     "text": [
      "1/1 [==============================] - 0s 27ms/step\n"
     ]
    },
    {
     "name": "stderr",
     "output_type": "stream",
     "text": [
      "Exception in Tkinter callback\n",
      "Traceback (most recent call last):\n",
      "  File \"c:\\Program Files\\Python39\\lib\\tkinter\\__init__.py\", line 1885, in __call__\n",
      "    return self.func(*args)\n",
      "  File \"C:\\Users\\Vikas Singla\\AppData\\Local\\Temp\\ipykernel_9860\\29865458.py\", line 72, in <lambda>\n",
      "    classify_b=Button(top,text=\"Classify Image\",command=lambda: classify(file_path),padx=10,pady=5)\n",
      "  File \"C:\\Users\\Vikas Singla\\AppData\\Local\\Temp\\ipykernel_9860\\29865458.py\", line 67, in classify\n",
      "    c = np.argmax(pred, axis=1)\n",
      "NameError: name 'np' is not defined\n"
     ]
    },
    {
     "name": "stdout",
     "output_type": "stream",
     "text": [
      "1/1 [==============================] - 0s 27ms/step\n",
      "1/1 [==============================] - ETA: 0s"
     ]
    },
    {
     "name": "stderr",
     "output_type": "stream",
     "text": [
      "Exception in Tkinter callback\n",
      "Traceback (most recent call last):\n",
      "  File \"c:\\Program Files\\Python39\\lib\\tkinter\\__init__.py\", line 1885, in __call__\n",
      "    return self.func(*args)\n",
      "  File \"C:\\Users\\Vikas Singla\\AppData\\Local\\Temp\\ipykernel_9860\\29865458.py\", line 72, in <lambda>\n",
      "    classify_b=Button(top,text=\"Classify Image\",command=lambda: classify(file_path),padx=10,pady=5)\n",
      "  File \"C:\\Users\\Vikas Singla\\AppData\\Local\\Temp\\ipykernel_9860\\29865458.py\", line 67, in classify\n",
      "    c = np.argmax(pred, axis=1)\n",
      "NameError: name 'np' is not defined\n"
     ]
    },
    {
     "name": "stdout",
     "output_type": "stream",
     "text": [
      "1/1 [==============================] - 0s 25ms/step\n",
      "1/1 [==============================] - 0s 25ms/step\n"
     ]
    },
    {
     "name": "stderr",
     "output_type": "stream",
     "text": [
      "Exception in Tkinter callback\n",
      "Traceback (most recent call last):\n",
      "  File \"c:\\Program Files\\Python39\\lib\\tkinter\\__init__.py\", line 1885, in __call__\n",
      "    return self.func(*args)\n",
      "  File \"C:\\Users\\Vikas Singla\\AppData\\Local\\Temp\\ipykernel_9860\\29865458.py\", line 72, in <lambda>\n",
      "    classify_b=Button(top,text=\"Classify Image\",command=lambda: classify(file_path),padx=10,pady=5)\n",
      "  File \"C:\\Users\\Vikas Singla\\AppData\\Local\\Temp\\ipykernel_9860\\29865458.py\", line 67, in classify\n",
      "    c = np.argmax(pred, axis=1)\n",
      "NameError: name 'np' is not defined\n",
      "Exception in Tkinter callback\n",
      "Traceback (most recent call last):\n",
      "  File \"c:\\Program Files\\Python39\\lib\\tkinter\\__init__.py\", line 1885, in __call__\n",
      "    return self.func(*args)\n",
      "  File \"C:\\Users\\Vikas Singla\\AppData\\Local\\Temp\\ipykernel_9860\\29865458.py\", line 72, in <lambda>\n",
      "    classify_b=Button(top,text=\"Classify Image\",command=lambda: classify(file_path),padx=10,pady=5)\n",
      "  File \"C:\\Users\\Vikas Singla\\AppData\\Local\\Temp\\ipykernel_9860\\29865458.py\", line 67, in classify\n",
      "    c = np.argmax(pred, axis=1)\n",
      "NameError: name 'np' is not defined\n"
     ]
    },
    {
     "name": "stdout",
     "output_type": "stream",
     "text": [
      "1/1 [==============================] - 0s 25ms/step\n",
      "1/1 [==============================] - ETA: 0s"
     ]
    },
    {
     "name": "stderr",
     "output_type": "stream",
     "text": [
      "Exception in Tkinter callback\n",
      "Traceback (most recent call last):\n",
      "  File \"c:\\Program Files\\Python39\\lib\\tkinter\\__init__.py\", line 1885, in __call__\n",
      "    return self.func(*args)\n",
      "  File \"C:\\Users\\Vikas Singla\\AppData\\Local\\Temp\\ipykernel_9860\\29865458.py\", line 72, in <lambda>\n",
      "    classify_b=Button(top,text=\"Classify Image\",command=lambda: classify(file_path),padx=10,pady=5)\n",
      "  File \"C:\\Users\\Vikas Singla\\AppData\\Local\\Temp\\ipykernel_9860\\29865458.py\", line 67, in classify\n",
      "    c = np.argmax(pred, axis=1)\n",
      "NameError: name 'np' is not defined\n"
     ]
    },
    {
     "name": "stdout",
     "output_type": "stream",
     "text": [
      "1/1 [==============================] - 0s 23ms/step\n"
     ]
    },
    {
     "name": "stderr",
     "output_type": "stream",
     "text": [
      "Exception in Tkinter callback\n",
      "Traceback (most recent call last):\n",
      "  File \"c:\\Program Files\\Python39\\lib\\tkinter\\__init__.py\", line 1885, in __call__\n",
      "    return self.func(*args)\n",
      "  File \"C:\\Users\\Vikas Singla\\AppData\\Local\\Temp\\ipykernel_9860\\29865458.py\", line 72, in <lambda>\n",
      "    classify_b=Button(top,text=\"Classify Image\",command=lambda: classify(file_path),padx=10,pady=5)\n",
      "  File \"C:\\Users\\Vikas Singla\\AppData\\Local\\Temp\\ipykernel_9860\\29865458.py\", line 67, in classify\n",
      "    c = np.argmax(pred, axis=1)\n",
      "NameError: name 'np' is not defined\n"
     ]
    },
    {
     "name": "stdout",
     "output_type": "stream",
     "text": [
      "1/1 [==============================] - 0s 24ms/step\n"
     ]
    },
    {
     "name": "stderr",
     "output_type": "stream",
     "text": [
      "Exception in Tkinter callback\n",
      "Traceback (most recent call last):\n",
      "  File \"c:\\Program Files\\Python39\\lib\\tkinter\\__init__.py\", line 1885, in __call__\n",
      "    return self.func(*args)\n",
      "  File \"C:\\Users\\Vikas Singla\\AppData\\Local\\Temp\\ipykernel_9860\\29865458.py\", line 72, in <lambda>\n",
      "    classify_b=Button(top,text=\"Classify Image\",command=lambda: classify(file_path),padx=10,pady=5)\n",
      "  File \"C:\\Users\\Vikas Singla\\AppData\\Local\\Temp\\ipykernel_9860\\29865458.py\", line 67, in classify\n",
      "    c = np.argmax(pred, axis=1)\n",
      "NameError: name 'np' is not defined\n"
     ]
    },
    {
     "name": "stdout",
     "output_type": "stream",
     "text": [
      "1/1 [==============================] - 0s 26ms/step\n",
      "1/1 [==============================] - 0s 24ms/step\n"
     ]
    },
    {
     "name": "stderr",
     "output_type": "stream",
     "text": [
      "Exception in Tkinter callback\n",
      "Traceback (most recent call last):\n",
      "  File \"c:\\Program Files\\Python39\\lib\\tkinter\\__init__.py\", line 1885, in __call__\n",
      "    return self.func(*args)\n",
      "  File \"C:\\Users\\Vikas Singla\\AppData\\Local\\Temp\\ipykernel_9860\\29865458.py\", line 72, in <lambda>\n",
      "    classify_b=Button(top,text=\"Classify Image\",command=lambda: classify(file_path),padx=10,pady=5)\n",
      "  File \"C:\\Users\\Vikas Singla\\AppData\\Local\\Temp\\ipykernel_9860\\29865458.py\", line 67, in classify\n",
      "    c = np.argmax(pred, axis=1)\n",
      "NameError: name 'np' is not defined\n",
      "Exception in Tkinter callback\n",
      "Traceback (most recent call last):\n",
      "  File \"c:\\Program Files\\Python39\\lib\\tkinter\\__init__.py\", line 1885, in __call__\n",
      "    return self.func(*args)\n",
      "  File \"C:\\Users\\Vikas Singla\\AppData\\Local\\Temp\\ipykernel_9860\\29865458.py\", line 72, in <lambda>\n",
      "    classify_b=Button(top,text=\"Classify Image\",command=lambda: classify(file_path),padx=10,pady=5)\n",
      "  File \"C:\\Users\\Vikas Singla\\AppData\\Local\\Temp\\ipykernel_9860\\29865458.py\", line 67, in classify\n",
      "    c = np.argmax(pred, axis=1)\n",
      "NameError: name 'np' is not defined\n"
     ]
    },
    {
     "name": "stdout",
     "output_type": "stream",
     "text": [
      "1/1 [==============================] - 0s 25ms/step\n",
      "1/1 [==============================] - 0s 27ms/step\n"
     ]
    },
    {
     "name": "stderr",
     "output_type": "stream",
     "text": [
      "Exception in Tkinter callback\n",
      "Traceback (most recent call last):\n",
      "  File \"c:\\Program Files\\Python39\\lib\\tkinter\\__init__.py\", line 1885, in __call__\n",
      "    return self.func(*args)\n",
      "  File \"C:\\Users\\Vikas Singla\\AppData\\Local\\Temp\\ipykernel_9860\\29865458.py\", line 72, in <lambda>\n",
      "    classify_b=Button(top,text=\"Classify Image\",command=lambda: classify(file_path),padx=10,pady=5)\n",
      "  File \"C:\\Users\\Vikas Singla\\AppData\\Local\\Temp\\ipykernel_9860\\29865458.py\", line 67, in classify\n",
      "    c = np.argmax(pred, axis=1)\n",
      "NameError: name 'np' is not defined\n",
      "Exception in Tkinter callback\n"
     ]
    },
    {
     "name": "stdout",
     "output_type": "stream",
     "text": [
      "1/1 [==============================] - 0s 28ms/step\n"
     ]
    },
    {
     "name": "stderr",
     "output_type": "stream",
     "text": [
      "Traceback (most recent call last):\n",
      "  File \"c:\\Program Files\\Python39\\lib\\tkinter\\__init__.py\", line 1885, in __call__\n",
      "    return self.func(*args)\n",
      "  File \"C:\\Users\\Vikas Singla\\AppData\\Local\\Temp\\ipykernel_9860\\29865458.py\", line 72, in <lambda>\n",
      "    classify_b=Button(top,text=\"Classify Image\",command=lambda: classify(file_path),padx=10,pady=5)\n",
      "  File \"C:\\Users\\Vikas Singla\\AppData\\Local\\Temp\\ipykernel_9860\\29865458.py\", line 67, in classify\n",
      "    c = np.argmax(pred, axis=1)\n",
      "NameError: name 'np' is not defined\n",
      "Exception in Tkinter callback\n",
      "Traceback (most recent call last):\n",
      "  File \"c:\\Program Files\\Python39\\lib\\tkinter\\__init__.py\", line 1885, in __call__\n",
      "    return self.func(*args)\n",
      "  File \"C:\\Users\\Vikas Singla\\AppData\\Local\\Temp\\ipykernel_9860\\29865458.py\", line 72, in <lambda>\n",
      "    classify_b=Button(top,text=\"Classify Image\",command=lambda: classify(file_path),padx=10,pady=5)\n",
      "  File \"C:\\Users\\Vikas Singla\\AppData\\Local\\Temp\\ipykernel_9860\\29865458.py\", line 67, in classify\n",
      "    c = np.argmax(pred, axis=1)\n",
      "NameError: name 'np' is not defined\n"
     ]
    },
    {
     "name": "stdout",
     "output_type": "stream",
     "text": [
      "1/1 [==============================] - 0s 26ms/step\n",
      "1/1 [==============================] - 0s 25ms/step\n"
     ]
    },
    {
     "name": "stderr",
     "output_type": "stream",
     "text": [
      "Exception in Tkinter callback\n",
      "Traceback (most recent call last):\n",
      "  File \"c:\\Program Files\\Python39\\lib\\tkinter\\__init__.py\", line 1885, in __call__\n",
      "    return self.func(*args)\n",
      "  File \"C:\\Users\\Vikas Singla\\AppData\\Local\\Temp\\ipykernel_9860\\29865458.py\", line 72, in <lambda>\n",
      "    classify_b=Button(top,text=\"Classify Image\",command=lambda: classify(file_path),padx=10,pady=5)\n",
      "  File \"C:\\Users\\Vikas Singla\\AppData\\Local\\Temp\\ipykernel_9860\\29865458.py\", line 67, in classify\n",
      "    c = np.argmax(pred, axis=1)\n",
      "NameError: name 'np' is not defined\n",
      "Exception in Tkinter callback\n",
      "Traceback (most recent call last):\n",
      "  File \"c:\\Program Files\\Python39\\lib\\tkinter\\__init__.py\", line 1885, in __call__\n",
      "    return self.func(*args)\n",
      "  File \"C:\\Users\\Vikas Singla\\AppData\\Local\\Temp\\ipykernel_9860\\29865458.py\", line 72, in <lambda>\n",
      "    classify_b=Button(top,text=\"Classify Image\",command=lambda: classify(file_path),padx=10,pady=5)\n",
      "  File \"C:\\Users\\Vikas Singla\\AppData\\Local\\Temp\\ipykernel_9860\\29865458.py\", line 67, in classify\n",
      "    c = np.argmax(pred, axis=1)\n",
      "NameError: name 'np' is not defined\n"
     ]
    },
    {
     "name": "stdout",
     "output_type": "stream",
     "text": [
      "1/1 [==============================] - 0s 32ms/step\n",
      "1/1 [==============================] - ETA: 0s"
     ]
    },
    {
     "name": "stderr",
     "output_type": "stream",
     "text": [
      "Exception in Tkinter callback\n",
      "Traceback (most recent call last):\n",
      "  File \"c:\\Program Files\\Python39\\lib\\tkinter\\__init__.py\", line 1885, in __call__\n",
      "    return self.func(*args)\n",
      "  File \"C:\\Users\\Vikas Singla\\AppData\\Local\\Temp\\ipykernel_9860\\29865458.py\", line 72, in <lambda>\n",
      "    classify_b=Button(top,text=\"Classify Image\",command=lambda: classify(file_path),padx=10,pady=5)\n",
      "  File \"C:\\Users\\Vikas Singla\\AppData\\Local\\Temp\\ipykernel_9860\\29865458.py\", line 67, in classify\n",
      "    c = np.argmax(pred, axis=1)\n",
      "NameError: name 'np' is not defined\n"
     ]
    },
    {
     "name": "stdout",
     "output_type": "stream",
     "text": [
      "1/1 [==============================] - 0s 28ms/step\n"
     ]
    },
    {
     "name": "stderr",
     "output_type": "stream",
     "text": [
      "Exception in Tkinter callback\n",
      "Traceback (most recent call last):\n",
      "  File \"c:\\Program Files\\Python39\\lib\\tkinter\\__init__.py\", line 1885, in __call__\n",
      "    return self.func(*args)\n",
      "  File \"C:\\Users\\Vikas Singla\\AppData\\Local\\Temp\\ipykernel_9860\\29865458.py\", line 72, in <lambda>\n",
      "    classify_b=Button(top,text=\"Classify Image\",command=lambda: classify(file_path),padx=10,pady=5)\n",
      "  File \"C:\\Users\\Vikas Singla\\AppData\\Local\\Temp\\ipykernel_9860\\29865458.py\", line 67, in classify\n",
      "    c = np.argmax(pred, axis=1)\n",
      "NameError: name 'np' is not defined\n"
     ]
    },
    {
     "name": "stdout",
     "output_type": "stream",
     "text": [
      "1/1 [==============================] - 0s 21ms/step\n",
      "1/1 [==============================] - ETA: 0s"
     ]
    },
    {
     "name": "stderr",
     "output_type": "stream",
     "text": [
      "Exception in Tkinter callback\n",
      "Traceback (most recent call last):\n",
      "  File \"c:\\Program Files\\Python39\\lib\\tkinter\\__init__.py\", line 1885, in __call__\n",
      "    return self.func(*args)\n",
      "  File \"C:\\Users\\Vikas Singla\\AppData\\Local\\Temp\\ipykernel_9860\\29865458.py\", line 72, in <lambda>\n",
      "    classify_b=Button(top,text=\"Classify Image\",command=lambda: classify(file_path),padx=10,pady=5)\n",
      "  File \"C:\\Users\\Vikas Singla\\AppData\\Local\\Temp\\ipykernel_9860\\29865458.py\", line 67, in classify\n",
      "    c = np.argmax(pred, axis=1)\n",
      "NameError: name 'np' is not defined\n"
     ]
    },
    {
     "name": "stdout",
     "output_type": "stream",
     "text": [
      "1/1 [==============================] - 0s 16ms/step\n",
      "1/1 [==============================] - ETA: 0s"
     ]
    },
    {
     "name": "stderr",
     "output_type": "stream",
     "text": [
      "Exception in Tkinter callback\n",
      "Traceback (most recent call last):\n",
      "  File \"c:\\Program Files\\Python39\\lib\\tkinter\\__init__.py\", line 1885, in __call__\n",
      "    return self.func(*args)\n",
      "  File \"C:\\Users\\Vikas Singla\\AppData\\Local\\Temp\\ipykernel_9860\\29865458.py\", line 72, in <lambda>\n",
      "    classify_b=Button(top,text=\"Classify Image\",command=lambda: classify(file_path),padx=10,pady=5)\n",
      "  File \"C:\\Users\\Vikas Singla\\AppData\\Local\\Temp\\ipykernel_9860\\29865458.py\", line 67, in classify\n",
      "    c = np.argmax(pred, axis=1)\n",
      "NameError: name 'np' is not defined\n"
     ]
    },
    {
     "name": "stdout",
     "output_type": "stream",
     "text": [
      "1/1 [==============================] - 0s 16ms/step\n",
      "1/1 [==============================] - 0s 16ms/step\n"
     ]
    },
    {
     "name": "stderr",
     "output_type": "stream",
     "text": [
      "Exception in Tkinter callback\n",
      "Traceback (most recent call last):\n",
      "  File \"c:\\Program Files\\Python39\\lib\\tkinter\\__init__.py\", line 1885, in __call__\n",
      "    return self.func(*args)\n",
      "  File \"C:\\Users\\Vikas Singla\\AppData\\Local\\Temp\\ipykernel_9860\\29865458.py\", line 72, in <lambda>\n",
      "    classify_b=Button(top,text=\"Classify Image\",command=lambda: classify(file_path),padx=10,pady=5)\n",
      "  File \"C:\\Users\\Vikas Singla\\AppData\\Local\\Temp\\ipykernel_9860\\29865458.py\", line 67, in classify\n",
      "    c = np.argmax(pred, axis=1)\n",
      "NameError: name 'np' is not defined\n",
      "Exception in Tkinter callback\n",
      "Traceback (most recent call last):\n",
      "  File \"c:\\Program Files\\Python39\\lib\\tkinter\\__init__.py\", line 1885, in __call__\n",
      "    return self.func(*args)\n",
      "  File \"C:\\Users\\Vikas Singla\\AppData\\Local\\Temp\\ipykernel_9860\\29865458.py\", line 72, in <lambda>\n",
      "    classify_b=Button(top,text=\"Classify Image\",command=lambda: classify(file_path),padx=10,pady=5)\n",
      "  File \"C:\\Users\\Vikas Singla\\AppData\\Local\\Temp\\ipykernel_9860\\29865458.py\", line 67, in classify\n",
      "    c = np.argmax(pred, axis=1)\n",
      "NameError: name 'np' is not defined\n"
     ]
    },
    {
     "name": "stdout",
     "output_type": "stream",
     "text": [
      "1/1 [==============================] - 0s 16ms/step\n"
     ]
    },
    {
     "name": "stderr",
     "output_type": "stream",
     "text": [
      "Exception in Tkinter callback\n",
      "Traceback (most recent call last):\n",
      "  File \"c:\\Program Files\\Python39\\lib\\tkinter\\__init__.py\", line 1885, in __call__\n",
      "    return self.func(*args)\n",
      "  File \"C:\\Users\\Vikas Singla\\AppData\\Local\\Temp\\ipykernel_9860\\29865458.py\", line 72, in <lambda>\n",
      "    classify_b=Button(top,text=\"Classify Image\",command=lambda: classify(file_path),padx=10,pady=5)\n",
      "  File \"C:\\Users\\Vikas Singla\\AppData\\Local\\Temp\\ipykernel_9860\\29865458.py\", line 67, in classify\n",
      "    c = np.argmax(pred, axis=1)\n",
      "NameError: name 'np' is not defined\n"
     ]
    }
   ],
   "source": [
    "import tkinter as tk\n",
    "from tkinter import filedialog\n",
    "from tkinter import *\n",
    "from PIL import ImageTk, Image\n",
    "import numpy\n",
    "#load the trained model to classify sign\n",
    "from keras.models import load_model\n",
    "model = load_model('model.h5')\n",
    "#dictionary to label all traffic signs class.\n",
    "classes = { 1:'Speed limit (20km/h)',\n",
    "            2:'Speed limit (30km/h)', \n",
    "            3:'Speed limit (50km/h)', \n",
    "            4:'Speed limit (60km/h)', \n",
    "            5:'Speed limit (70km/h)', \n",
    "            6:'Speed limit (80km/h)', \n",
    "            7:'End of speed limit (80km/h)', \n",
    "            8:'Speed limit (100km/h)', \n",
    "            9:'Speed limit (120km/h)', \n",
    "            10:'No passing', \n",
    "            11:'No passing veh over 3.5 tons', \n",
    "            12:'Right-of-way at intersection', \n",
    "            13:'Priority road', \n",
    "            14:'Yield', \n",
    "            15:'Stop', \n",
    "            16:'No vehicles', \n",
    "            17:'Veh > 3.5 tons prohibited', \n",
    "            18:'No entry', \n",
    "            19:'General caution', \n",
    "            20:'Dangerous curve left', \n",
    "            21:'Dangerous curve right', \n",
    "            22:'Double curve', \n",
    "            23:'Bumpy road', \n",
    "            24:'Slippery road', \n",
    "            25:'Road narrows on the right', \n",
    "            26:'Road work', \n",
    "            27:'Traffic signals', \n",
    "            28:'Pedestrians', \n",
    "            29:'Children crossing', \n",
    "            30:'Bicycles crossing', \n",
    "            31:'Beware of ice/snow',\n",
    "            32:'Wild animals crossing', \n",
    "            33:'End speed + passing limits', \n",
    "            34:'Turn right ahead', \n",
    "            35:'Turn left ahead', \n",
    "            36:'Ahead only', \n",
    "            37:'Go straight or right', \n",
    "            38:'Go straight or left', \n",
    "            39:'Keep right', \n",
    "            40:'Keep left', \n",
    "            41:'Roundabout mandatory', \n",
    "            42:'End of no passing', \n",
    "            43:'End no passing veh > 3.5 tons' }\n",
    "#initialise GUI\n",
    "top=tk.Tk()\n",
    "top.geometry('800x600')\n",
    "top.title('Traffic sign classification')\n",
    "top.configure(background='#CDCDCD')\n",
    "label=Label(top,background='#CDCDCD', font=('arial',15,'bold'))\n",
    "sign_image = Label(top)\n",
    "def classify(file_path):\n",
    "    global label_packed\n",
    "    image = Image.open(file_path)\n",
    "    image = image.resize((30,30))\n",
    "    image = numpy.expand_dims(image, axis=0)\n",
    "    image = numpy.array(image)\n",
    "    pred = model.predict([image])\n",
    "    c = np.argmax(pred, axis=1)\n",
    "    sign = classes[c[0]+1]\n",
    "    print(sign)\n",
    "    label.configure(foreground='#011638', text=sign) \n",
    "def show_classify_button(file_path):\n",
    "    classify_b=Button(top,text=\"Classify Image\",command=lambda: classify(file_path),padx=10,pady=5)\n",
    "    classify_b.configure(background='#364156', foreground='white',font=('arial',10,'bold'))\n",
    "    classify_b.place(relx=0.79,rely=0.46)\n",
    "def upload_image():\n",
    "    try:\n",
    "        file_path=filedialog.askopenfilename()\n",
    "        uploaded=Image.open(file_path)\n",
    "        uploaded.thumbnail(((top.winfo_width()/2.25),(top.winfo_height()/2.25)))\n",
    "        im=ImageTk.PhotoImage(uploaded)\n",
    "        sign_image.configure(image=im)\n",
    "        sign_image.image=im\n",
    "        label.configure(text='')\n",
    "        show_classify_button(file_path)\n",
    "    except:\n",
    "        pass\n",
    "upload=Button(top,text=\"Upload an image\",command=upload_image,padx=10,pady=5)\n",
    "upload.configure(background='#364156', foreground='white',font=('arial',10,'bold'))\n",
    "upload.pack(side=BOTTOM,pady=50)\n",
    "sign_image.pack(side=BOTTOM,expand=True)\n",
    "label.pack(side=BOTTOM,expand=True)\n",
    "heading = Label(top, text=\"Know Your Traffic Sign\",pady=20, font=('arial',20,'bold'))\n",
    "heading.configure(background='#CDCDCD',foreground='#364156')\n",
    "heading.pack()\n",
    "top.mainloop()"
   ]
  },
  {
   "cell_type": "code",
   "execution_count": 82,
   "id": "0e6bf31a",
   "metadata": {},
   "outputs": [
    {
     "name": "stdout",
     "output_type": "stream",
     "text": [
      "Right-of-way at intersection\n"
     ]
    }
   ],
   "source": [
    "import tkinter as tk\n",
    "from tkinter import filedialog\n",
    "from tkinter import *\n",
    "from PIL import ImageTk, Image\n",
    "import numpy\n",
    "#load the trained model to classify sign\n",
    "from keras.models import load_model\n",
    "model = load_model('model.h5')\n",
    "#dictionary to label all traffic signs class.\n",
    "classes = { 1:'Speed limit (20km/h)',\n",
    "            2:'Speed limit (30km/h)', \n",
    "            3:'Speed limit (50km/h)', \n",
    "            4:'Speed limit (60km/h)', \n",
    "            5:'Speed limit (70km/h)', \n",
    "            6:'Speed limit (80km/h)', \n",
    "            7:'End of speed limit (80km/h)', \n",
    "            8:'Speed limit (100km/h)', \n",
    "            9:'Speed limit (120km/h)', \n",
    "            10:'No passing', \n",
    "            11:'No passing veh over 3.5 tons', \n",
    "            12:'Right-of-way at intersection', \n",
    "            13:'Priority road', \n",
    "            14:'Yield', \n",
    "            15:'Stop', \n",
    "            16:'No vehicles', \n",
    "            17:'Veh > 3.5 tons prohibited', \n",
    "            18:'No entry', \n",
    "            19:'General caution', \n",
    "            20:'Dangerous curve left', \n",
    "            21:'Dangerous curve right', \n",
    "            22:'Double curve', \n",
    "            23:'Bumpy road', \n",
    "            24:'Slippery road', \n",
    "            25:'Road narrows on the right', \n",
    "            26:'Road work', \n",
    "            27:'Traffic signals', \n",
    "            28:'Pedestrians', \n",
    "            29:'Children crossing', \n",
    "            30:'Bicycles crossing', \n",
    "            31:'Beware of ice/snow',\n",
    "            32:'Wild animals crossing', \n",
    "            33:'End speed + passing limits', \n",
    "            34:'Turn right ahead', \n",
    "            35:'Turn left ahead', \n",
    "            36:'Ahead only', \n",
    "            37:'Go straight or right', \n",
    "            38:'Go straight or left', \n",
    "            39:'Keep right', \n",
    "            40:'Keep left', \n",
    "            41:'Roundabout mandatory', \n",
    "            42:'End of no passing', \n",
    "            43:'End no passing veh > 3.5 tons' }\n",
    "#initialise GUI\n",
    "top=tk.Tk()\n",
    "top.geometry('800x600')\n",
    "top.title('Traffic sign classification')\n",
    "top.configure(background='#CDCDCD')\n",
    "label=Label(top,background='#CDCDCD', font=('arial',15,'bold'))\n",
    "sign_image = Label(top)\n",
    "def classify(file_path):\n",
    "    global label_packed\n",
    "    image = Image.open(file_path)\n",
    "    image = image.resize((30,30))\n",
    "    image = numpy.expand_dims(image, axis=0)\n",
    "    image = numpy.array(image)\n",
    "    image = image.reshape(image.shape[0],-1)\n",
    "    image = image/255\n",
    "    pred = ann.predict1(image)\n",
    "    c = np.argmax(pred, axis=0)\n",
    "    sign = classes[c[0]+1]\n",
    "    print(sign)\n",
    "    label.configure(foreground='#011638', text=sign) \n",
    "def show_classify_button(file_path):\n",
    "    classify_b=Button(top,text=\"Classify Image\",command=lambda: classify(file_path),padx=10,pady=5)\n",
    "    classify_b.configure(background='#364156', foreground='white',font=('arial',10,'bold'))\n",
    "    classify_b.place(relx=0.79,rely=0.46)\n",
    "def upload_image():\n",
    "    try:\n",
    "        file_path=filedialog.askopenfilename()\n",
    "        uploaded=Image.open(file_path)\n",
    "        uploaded.thumbnail(((top.winfo_width()/2.25),(top.winfo_height()/2.25)))\n",
    "        im=ImageTk.PhotoImage(uploaded)\n",
    "        sign_image.configure(image=im)\n",
    "        sign_image.image=im\n",
    "        label.configure(text='')\n",
    "        show_classify_button(file_path)\n",
    "    except:\n",
    "        pass\n",
    "upload=Button(top,text=\"Upload an image\",command=upload_image,padx=10,pady=5)\n",
    "upload.configure(background='#364156', foreground='white',font=('arial',10,'bold'))\n",
    "upload.pack(side=BOTTOM,pady=50)\n",
    "sign_image.pack(side=BOTTOM,expand=True)\n",
    "label.pack(side=BOTTOM,expand=True)\n",
    "heading = Label(top, text=\"Know Your Traffic Sign\",pady=20, font=('arial',20,'bold'))\n",
    "heading.configure(background='#CDCDCD',foreground='#364156')\n",
    "heading.pack()\n",
    "top.mainloop()"
   ]
  }
 ],
 "metadata": {
  "kernelspec": {
   "display_name": "Python 3 (ipykernel)",
   "language": "python",
   "name": "python3"
  },
  "language_info": {
   "codemirror_mode": {
    "name": "ipython",
    "version": 3
   },
   "file_extension": ".py",
   "mimetype": "text/x-python",
   "name": "python",
   "nbconvert_exporter": "python",
   "pygments_lexer": "ipython3",
   "version": "3.9.0"
  }
 },
 "nbformat": 4,
 "nbformat_minor": 5
}
